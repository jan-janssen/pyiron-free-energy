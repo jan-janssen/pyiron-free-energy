{
 "cells": [
  {
   "cell_type": "markdown",
   "metadata": {},
   "source": [
    "# Calculate Free Energies\n",
    "Based on: https://github.com/freitas-rodrigo/FreeEnergyLAMMPS"
   ]
  },
  {
   "cell_type": "code",
   "execution_count": 1,
   "metadata": {},
   "outputs": [],
   "source": [
    "from pyiron import Project"
   ]
  },
  {
   "cell_type": "code",
   "execution_count": 2,
   "metadata": {},
   "outputs": [],
   "source": [
    "import numpy as np\n",
    "import pandas\n",
    "from jinja2 import Template\n",
    "import matplotlib.pyplot as plt \n",
    "import scipy.constants as sc\n",
    "from scipy.integrate import cumtrapz\n",
    "import os"
   ]
  },
  {
   "cell_type": "code",
   "execution_count": 3,
   "metadata": {},
   "outputs": [],
   "source": [
    "pr = Project(\"free\")"
   ]
  },
  {
   "cell_type": "code",
   "execution_count": 4,
   "metadata": {},
   "outputs": [],
   "source": [
    "pr.remove_jobs_silently(recursive=True)"
   ]
  },
  {
   "cell_type": "code",
   "execution_count": 5,
   "metadata": {},
   "outputs": [],
   "source": [
    "fe_potential = pandas.DataFrame({\n",
    "  'Name': ['Fe_Potential'],\n",
    "  'Filename': [[os.path.abspath(\"Fe.eam\")]],\n",
    "  'Model': ['Custom'],\n",
    "  'Species': [['Fe']],\n",
    "  'Config': [['pair_style eam\\n', \n",
    "              'pair_coeff * * Fe.eam\\n']]\n",
    "})"
   ]
  },
  {
   "cell_type": "markdown",
   "metadata": {},
   "source": [
    "# Frenkel-Ladd thermodynamic integration"
   ]
  },
  {
   "cell_type": "code",
   "execution_count": 6,
   "metadata": {},
   "outputs": [],
   "source": [
    "temperature_lst = [100, 400, 700, 1000, 1300, 1600]\n",
    "alat_lst = [2.8841, 2.9115, 2.9315, 2.9484, 2.9637, 2.9782]\n",
    "k_lst = [5.787, 4.866, 4.073, 3.373, 2.799, 2.443]"
   ]
  },
  {
   "cell_type": "code",
   "execution_count": 7,
   "metadata": {},
   "outputs": [],
   "source": [
    "lmp_frenkel_ladd_input_str = \"\"\"\\\n",
    "# This script runs a Frenkel-Ladd thermodynamic integration for the calculation of the free energy of bcc iron. See job.sh for the variables that need to be passed in the command line.\n",
    "\n",
    "\n",
    "#--------------------------- Simulation variables -----------------------------#\n",
    "  # Initalizes the random number generator.\n",
    "  variable         rnd equal round(random(0,999,{{ RANDOM }}))\n",
    "\n",
    "  # Simulation control parameters.\n",
    "  variable         t_eq equal 1000 # Equilibration time.\n",
    "  variable         t equal 5000 # Switching time.\n",
    "#------------------------------------------------------------------------------#\n",
    "\n",
    "\n",
    "#---------------------------- Atomic setup ------------------------------------#\n",
    "  units            metal\n",
    "\n",
    "  # Create atoms.\n",
    "  read_data        structure.inp\n",
    "\n",
    "  # Define interatomic potential.\n",
    "  include          potential.inp\n",
    "  neigh_modify     delay 0\n",
    "  timestep         0.002\n",
    "#------------------------------------------------------------------------------#\n",
    "\n",
    "\n",
    "#----------------------------- Run simulation ---------------------------------#\n",
    "  # Integrator, Frenkel-Ladd modifier, and thermostat.\n",
    "  fix              f1 all nve \n",
    "  fix              f2 all ti/spring {{ k }} ${t} ${t_eq} function 2\n",
    "  fix              f3 all langevin {{ T }} {{ T }} 0.1 ${rnd} zero yes\n",
    "\n",
    "  # Compute temperature using COM coordinates.\n",
    "  compute          c1 all temp/com\n",
    "  fix_modify       f3 temp c1\n",
    "\n",
    "  # Redefine simulation time to capture first and last steps on output files.\n",
    "  # Notice that this does not affect the switching time.\n",
    "  variable         t_eq equal ${t_eq}-1\n",
    "  variable         t equal ${t}+1\n",
    "\n",
    "  # Setup thermo output.\n",
    "  thermo_style     custom step pe\n",
    "  thermo           0\n",
    "  variable         dE equal pe-f_f2\n",
    "  variable         lambda equal f_f2[1]\n",
    "\n",
    "  # Initial temperature to accelerate equilibration.\n",
    "  variable         rnd equal round(random(1,666,0)) # Generates new rnd #.\n",
    "  variable         T0 equal 2*{{ T }}\n",
    "  velocity         all create ${T0} ${rnd} dist gaussian\n",
    "\n",
    "  # Forward integration.\n",
    "  run              ${t_eq}\n",
    "  fix              f4 all print 1 \"${dE} ${lambda}\" title \"# dE [eV] lambda\" &\n",
    "                   screen no file forward.dat\n",
    "  run              ${t}\n",
    "  unfix            f4\n",
    "\n",
    "  # Backward integration. \n",
    "  run              ${t_eq}\n",
    "  fix              f4 all print 1 \"${dE} ${lambda}\" title \"# dE [eV] lambda\" &\n",
    "                   screen no file backward.dat\n",
    "  run              ${t}\n",
    "#------------------------------------------------------------------------------#\n",
    "\"\"\""
   ]
  },
  {
   "cell_type": "code",
   "execution_count": 8,
   "metadata": {},
   "outputs": [],
   "source": [
    "tm_frenkel_ladd = Template(lmp_frenkel_ladd_input_str)"
   ]
  },
  {
   "cell_type": "code",
   "execution_count": 9,
   "metadata": {},
   "outputs": [
    {
     "name": "stdout",
     "output_type": "stream",
     "text": [
      "The job lmp_frenkel_ladd_100 was saved and received the ID: 230\n"
     ]
    },
    {
     "name": "stderr",
     "output_type": "stream",
     "text": [
      "/Users/jan/PycharmProjects/pyiron_mpie/pyiron/pyiron/lammps/base.py:997: UserWarning: LAMMPS warning: No dump.out output file found.\n",
      "  warnings.warn(\"LAMMPS warning: No dump.out output file found.\")\n",
      "/Users/jan/PycharmProjects/pyiron_mpie/pyiron/pyiron/lammps/base.py:583: UserWarning: LAMMPS warning: log.lammps does not contain the required pressure values.\n",
      "  warnings.warn(\"LAMMPS warning: log.lammps does not contain the required pressure values.\")\n"
     ]
    },
    {
     "name": "stdout",
     "output_type": "stream",
     "text": [
      "The job lmp_frenkel_ladd_400 was saved and received the ID: 231\n",
      "The job lmp_frenkel_ladd_700 was saved and received the ID: 232\n",
      "The job lmp_frenkel_ladd_1000 was saved and received the ID: 233\n",
      "The job lmp_frenkel_ladd_1300 was saved and received the ID: 234\n",
      "The job lmp_frenkel_ladd_1600 was saved and received the ID: 235\n"
     ]
    }
   ],
   "source": [
    "for temp, alat, k in zip(temperature_lst, alat_lst, k_lst):\n",
    "    job_lmp = pr.create_job(pr.job_type.Lammps, \"lmp_frenkel_ladd_\" + str(temp))\n",
    "    fe_bcc = pr.create_ase_bulk(\"Fe\", a=alat ,cubic=True).repeat(5)\n",
    "    job_lmp.structure = fe_bcc\n",
    "    job_lmp.potential = fe_potential\n",
    "    job_lmp.input.control.load_string(\n",
    "        tm_frenkel_ladd.render(\n",
    "            RANDOM=np.random.randint(999), \n",
    "            T=temp, \n",
    "            k=k\n",
    "        )\n",
    "    )\n",
    "    job_lmp.run()\n",
    "    job_lmp.decompress()"
   ]
  },
  {
   "cell_type": "code",
   "execution_count": 10,
   "metadata": {},
   "outputs": [],
   "source": [
    "T = np.array(temperature_lst) # [K].\n",
    "a = np.array(alat_lst) # [A].\n",
    "k = np.array(k_lst) # [eV/A^2]."
   ]
  },
  {
   "cell_type": "code",
   "execution_count": 11,
   "metadata": {},
   "outputs": [],
   "source": [
    "m = 55.845 # Iron mass [g/mol].\n",
    "natoms = len(fe_bcc) # Number of atoms."
   ]
  },
  {
   "cell_type": "code",
   "execution_count": 12,
   "metadata": {},
   "outputs": [
    {
     "data": {
      "text/plain": [
       "250"
      ]
     },
     "execution_count": 12,
     "metadata": {},
     "output_type": "execute_result"
    }
   ],
   "source": [
    "natoms"
   ]
  },
  {
   "cell_type": "code",
   "execution_count": 13,
   "metadata": {},
   "outputs": [],
   "source": [
    "kB = sc.value('Boltzmann constant in eV/K')\n",
    "eV = sc.value('electron volt')\n",
    "hbar = sc.value('Planck constant over 2 pi in eV s')\n",
    "mu = sc.value('atomic mass constant')"
   ]
  },
  {
   "cell_type": "code",
   "execution_count": 14,
   "metadata": {},
   "outputs": [],
   "source": [
    "W = np.zeros(len(T)) # Reversible work for each temperature.\n",
    "for i, job in enumerate(pr.iter_jobs(convert_to_object=False)):\n",
    "    if \"lmp_frenkel_ladd_\" in job.job_name:\n",
    "        dE, lamb = np.loadtxt(os.path.join(job.working_directory, \"forward.dat\"), unpack=True)\n",
    "        I_forw = np.trapz(dE,lamb)\n",
    "        dE, lamb = np.loadtxt(os.path.join(job.working_directory, \"backward.dat\"), unpack=True)\n",
    "        I_back = np.trapz(dE,lamb)\n",
    "        W[i] = (I_forw-I_back) / 2"
   ]
  },
  {
   "cell_type": "code",
   "execution_count": 15,
   "metadata": {},
   "outputs": [],
   "source": [
    "# Define harmonic reference system free energy [Eq.(15) in the paper].\n",
    "omega = np.sqrt(k*eV/(m*mu)) * 1.0e+10 # [1/s].\n",
    "F_harm = 3*natoms*kB*T * np.log(hbar*omega/(kB*T)) # [eV]."
   ]
  },
  {
   "cell_type": "code",
   "execution_count": 16,
   "metadata": {},
   "outputs": [],
   "source": [
    "# Fixed center of mass correction [Eq.(24) in the paper].\n",
    "V = (a**3/2) * natoms # Total volume.\n",
    "F_CM = (kB*T)*np.log((natoms/V) * (2*np.pi*kB*T / (natoms*m*omega**2))**(3/2)) # [eV]."
   ]
  },
  {
   "cell_type": "code",
   "execution_count": 17,
   "metadata": {},
   "outputs": [],
   "source": [
    "# Compute absolute free energy per atom [Eq.(16) in the paper] and save data.\n",
    "F_fl = (F_harm + W + F_CM) / natoms # [eV/atom].\n",
    "T_fl = T.copy()"
   ]
  },
  {
   "cell_type": "code",
   "execution_count": 18,
   "metadata": {},
   "outputs": [],
   "source": [
    "c = ['#E41A1C','#377EB8','#4DAF4A','#984EA3','#FF7F00','#FFFF33','#A65628','#F781BF','#999999']"
   ]
  },
  {
   "cell_type": "code",
   "execution_count": 19,
   "metadata": {},
   "outputs": [
    {
     "data": {
      "text/plain": [
       "Text(0, 0.5, 'Free energy [eV/atom]')"
      ]
     },
     "execution_count": 19,
     "metadata": {},
     "output_type": "execute_result"
    },
    {
     "data": {
      "image/png": "[encoded data removed]",
      "text/plain": [
       "<Figure size 432x288 with 1 Axes>"
      ]
     },
     "metadata": {
      "needs_background": "light"
     },
     "output_type": "display_data"
    }
   ],
   "source": [
    "# Start figure.\n",
    "fig = plt.figure()\n",
    "ax = fig.add_axes([0.15,0.15,0.80,0.80])\n",
    "\n",
    "# Plot.\n",
    "ax.plot(T_fl, F_fl, 'o', c=c[0], lw=1)\n",
    " \n",
    "# Add details and save figure.\n",
    "ax.set_xlabel(r'Temperature [K]')\n",
    "ax.set_ylabel(r'Free energy [eV/atom]')"
   ]
  },
  {
   "cell_type": "markdown",
   "metadata": {},
   "source": [
    "# Reversible Scaling thermodynamic integration"
   ]
  },
  {
   "cell_type": "code",
   "execution_count": 20,
   "metadata": {},
   "outputs": [],
   "source": [
    "reversible_scaling_input_str = \"\"\"\\\n",
    "# This script runs a Reversible Scaling thermodynamic integration for the calculation of the temperature dependence of the free energy of bcc iron. See job.sh for the variables that need to be passed in the command line.\n",
    "\n",
    "\n",
    "#--------------------------- Simulation variables -----------------------------#\n",
    "  # Initalizes the random number generator.\n",
    "  variable         rnd equal round(random(0,999,{{ RANDOM }}))\n",
    "\n",
    "  # Simulation control parameters.\n",
    "  variable         t_eq equal 1000 # Equilibration time.\n",
    "  variable         t equal 10000 # Switching time.\n",
    "  variable         T equal 100 # Simulation temperature.\n",
    "#------------------------------------------------------------------------------#\n",
    "\n",
    "\n",
    "#---------------------------- Atomic setup ------------------------------------#\n",
    "  units            metal\n",
    "\n",
    "  # Create atoms.\n",
    "  read_data        structure.inp\n",
    "\n",
    "  # Define Interatomic potential.\n",
    "  include          potential.inp\n",
    "  neigh_modify     delay 0\n",
    "  timestep         0.002\n",
    "#------------------------------------------------------------------------------#\n",
    "\n",
    "\n",
    "#----------------------------- Run simulation ---------------------------------#\n",
    "  # Setup thermo output.\n",
    "  thermo_style     custom step pe\n",
    "  thermo           0\n",
    "\n",
    "  # Integrator for barostat and thermostat.\n",
    "  fix              f1 all nph iso 0 0 1\n",
    "  fix              f2 all langevin ${T} ${T} 0.1 ${rnd} zero yes\n",
    "\n",
    "  # Compute temperature using center-of-mass coordinates.\n",
    "  compute          c1 all temp/com\n",
    "  fix_modify       f1 temp c1\n",
    "  fix_modify       f2 temp c1\n",
    "\n",
    "  # Initial temperature to accelerate equilibration.\n",
    "  variable         rnd equal round(random(0,666,0)) # Generates new rnd #.\n",
    "  variable         T0 equal 2*${T}\n",
    "  velocity         all create ${T0} ${rnd} dist gaussian\n",
    "\n",
    "  # Forward integration.\n",
    "  run              ${t_eq}\n",
    "  print            \"$(pe/atoms) 1\" file forward.dat\n",
    "  variable         lambda equal 1/(1+(elapsed/${t})*({{ t_max }}/$T-1))\n",
    "  fix              f3 all adapt 1 pair eam scale * * v_lambda\n",
    "  fix              f4 all print 1 \"$(pe/atoms) ${lambda}\" screen no &\n",
    "                   append forward.dat title \"# pe lambda\"\n",
    "  run              ${t}\n",
    "  unfix            f3\n",
    "  unfix            f4\n",
    "\n",
    "  # Backward integration. \n",
    "  run              ${t_eq}\n",
    "  print            \"$(pe/atoms) $(v_T/{{ t_max }})\" file backward.dat\n",
    "  variable         lambda equal 1/(1+(1-(elapsed/${t}))*({{ t_max }}/$T-1))\n",
    "  fix              f3 all adapt 1 pair eam scale * * v_lambda\n",
    "  fix              f4 all print 1 \"$(pe/atoms) ${lambda}\" screen no &\n",
    "                   append backward.dat title \"# pe lambda\"\n",
    "  run              ${t}\n",
    "#------------------------------------------------------------------------------#\n",
    "\"\"\""
   ]
  },
  {
   "cell_type": "code",
   "execution_count": 21,
   "metadata": {},
   "outputs": [],
   "source": [
    "alat = 2.8841"
   ]
  },
  {
   "cell_type": "code",
   "execution_count": 22,
   "metadata": {},
   "outputs": [],
   "source": [
    "tm_reversible_scaling = Template(reversible_scaling_input_str)"
   ]
  },
  {
   "cell_type": "code",
   "execution_count": 23,
   "metadata": {},
   "outputs": [
    {
     "name": "stdout",
     "output_type": "stream",
     "text": [
      "The job lmp_reversible_scaling was saved and received the ID: 236\n"
     ]
    },
    {
     "name": "stderr",
     "output_type": "stream",
     "text": [
      "/Users/jan/PycharmProjects/pyiron_mpie/pyiron/pyiron/lammps/base.py:997: UserWarning: LAMMPS warning: No dump.out output file found.\n",
      "  warnings.warn(\"LAMMPS warning: No dump.out output file found.\")\n",
      "/Users/jan/PycharmProjects/pyiron_mpie/pyiron/pyiron/lammps/base.py:583: UserWarning: LAMMPS warning: log.lammps does not contain the required pressure values.\n",
      "  warnings.warn(\"LAMMPS warning: log.lammps does not contain the required pressure values.\")\n"
     ]
    }
   ],
   "source": [
    "job_reversible_scaling = pr.create_job(pr.job_type.Lammps, \"lmp_reversible_scaling\")\n",
    "fe_bcc = pr.create_ase_bulk(\"Fe\", a=alat ,cubic=True).repeat(5)\n",
    "job_reversible_scaling.structure = fe_bcc\n",
    "job_reversible_scaling.potential = fe_potential\n",
    "job_reversible_scaling.input.control.load_string(\n",
    "    tm_reversible_scaling.render(\n",
    "        RANDOM=np.random.randint(999),\n",
    "        t_max=temperature_lst[-1]\n",
    "    )\n",
    ")\n",
    "job_reversible_scaling.run()\n",
    "job_reversible_scaling.decompress()"
   ]
  },
  {
   "cell_type": "code",
   "execution_count": 24,
   "metadata": {},
   "outputs": [],
   "source": [
    "T0 = 100 # Reference temperature [K]\n",
    "kB = sc.value('Boltzmann constant in eV/K') "
   ]
  },
  {
   "cell_type": "code",
   "execution_count": 25,
   "metadata": {},
   "outputs": [],
   "source": [
    "F0 = F_fl[T==T0]"
   ]
  },
  {
   "cell_type": "code",
   "execution_count": 26,
   "metadata": {},
   "outputs": [],
   "source": [
    "U_f, lamb_f = np.loadtxt(os.path.join(job_reversible_scaling.working_directory, \"forward.dat\"), unpack=True)\n",
    "U_b, lamb_b = np.loadtxt(os.path.join(job_reversible_scaling.working_directory, \"backward.dat\"), unpack=True)"
   ]
  },
  {
   "cell_type": "code",
   "execution_count": 27,
   "metadata": {},
   "outputs": [],
   "source": [
    "# Fix adapt also scales the potential energy besides the forces, so we unscale.\n",
    "U_f /= lamb_f\n",
    "U_b /= lamb_b"
   ]
  },
  {
   "cell_type": "code",
   "execution_count": 28,
   "metadata": {},
   "outputs": [],
   "source": [
    "# Compute work done using cummulative integrals [Eq.(21) in the paper].\n",
    "I_f = cumtrapz(U_f,lamb_f,initial=0)\n",
    "I_b = cumtrapz(U_b[::-1],lamb_b[::-1],initial=0)\n",
    "W = (I_f+I_b) / (2*lamb_f)"
   ]
  },
  {
   "cell_type": "code",
   "execution_count": 29,
   "metadata": {},
   "outputs": [],
   "source": [
    "# Compute free energy [Eq.(22) in the paper] and save results.\n",
    "T_rs = T0 / lamb_f\n",
    "F_rs = F0/lamb_f  + 1.5*kB*T_rs*np.log(lamb_f) + W"
   ]
  },
  {
   "cell_type": "code",
   "execution_count": 30,
   "metadata": {},
   "outputs": [
    {
     "data": {
      "text/plain": [
       "<matplotlib.legend.Legend at 0x7f9a7d454f10>"
      ]
     },
     "execution_count": 30,
     "metadata": {},
     "output_type": "execute_result"
    },
    {
     "data": {
      "image/png": "[encoded data removed]",
      "text/plain": [
       "<Figure size 432x288 with 1 Axes>"
      ]
     },
     "metadata": {
      "needs_background": "light"
     },
     "output_type": "display_data"
    }
   ],
   "source": [
    "# Start figure.\n",
    "fig = plt.figure()\n",
    "ax = fig.add_axes([0.15,0.15,0.80,0.80])\n",
    "\n",
    "# Plot.\n",
    "ax.plot(T_rs, F_rs, '-', c='k', lw=1, label='Reversible Scaling')\n",
    "ax.plot(T_fl, F_fl, 'o', c=c[0], label='Frenkel-Ladd')\n",
    " \n",
    "# Add details and save figure.\n",
    "ax.set_xlabel(r'Temperature [K]')\n",
    "ax.set_ylabel(r'Free energy [eV/atom]')\n",
    "ax.legend(loc='best', frameon=False)"
   ]
  },
  {
   "cell_type": "code",
   "execution_count": null,
   "metadata": {},
   "outputs": [],
   "source": []
  }
 ],
 "metadata": {
  "kernelspec": {
   "display_name": "Python 3",
   "language": "python",
   "name": "python3"
  },
  "language_info": {
   "codemirror_mode": {
    "name": "ipython",
    "version": 3
   },
   "file_extension": ".py",
   "mimetype": "text/x-python",
   "name": "python",
   "nbconvert_exporter": "python",
   "pygments_lexer": "ipython3",
   "version": "3.9.0"
  }
 },
 "nbformat": 4,
 "nbformat_minor": 4
}
